{
 "cells": [
  {
   "cell_type": "code",
   "execution_count": 1,
   "id": "a6c67f62",
   "metadata": {},
   "outputs": [],
   "source": [
    "# Tasks:\n",
    "# Download a data set\n",
    "# Read the data set\n",
    "# We need to determine what is x and y\n",
    "# Train, Test, Split\n",
    "# Train the model\n",
    "# Predict it"
   ]
  },
  {
   "cell_type": "code",
   "execution_count": 2,
   "id": "182be3ff",
   "metadata": {},
   "outputs": [],
   "source": [
    "import pandas as pd\n",
    "import numpy as np\n",
    "import matplotlib.pyplot as plt"
   ]
  },
  {
   "cell_type": "code",
   "execution_count": 3,
   "id": "92900706",
   "metadata": {},
   "outputs": [],
   "source": [
    "df = pd.read_csv('Cities with the Best Work-Life Balance 2022.csv')"
   ]
  },
  {
   "cell_type": "code",
   "execution_count": 4,
   "id": "ed56952f",
   "metadata": {},
   "outputs": [
    {
     "data": {
      "text/html": [
       "<div>\n",
       "<style scoped>\n",
       "    .dataframe tbody tr th:only-of-type {\n",
       "        vertical-align: middle;\n",
       "    }\n",
       "\n",
       "    .dataframe tbody tr th {\n",
       "        vertical-align: top;\n",
       "    }\n",
       "\n",
       "    .dataframe thead th {\n",
       "        text-align: right;\n",
       "    }\n",
       "</style>\n",
       "<table border=\"1\" class=\"dataframe\">\n",
       "  <thead>\n",
       "    <tr style=\"text-align: right;\">\n",
       "      <th></th>\n",
       "      <th>2022</th>\n",
       "      <th>2021</th>\n",
       "      <th>City</th>\n",
       "      <th>Country</th>\n",
       "      <th>Remote Jobs</th>\n",
       "      <th>Overworked Population</th>\n",
       "      <th>Minimum Vacations Offered (Days)</th>\n",
       "      <th>Vacations Taken (Days)</th>\n",
       "      <th>Unemployment</th>\n",
       "      <th>Multiple Jobholders</th>\n",
       "      <th>...</th>\n",
       "      <th>Healthcare</th>\n",
       "      <th>Access to Mental Healthcare</th>\n",
       "      <th>Inclusivity &amp; Tolerance</th>\n",
       "      <th>Affordability</th>\n",
       "      <th>Happiness, Culture &amp; Leisure</th>\n",
       "      <th>City Safety</th>\n",
       "      <th>Outdoor Spaces</th>\n",
       "      <th>Air Quality</th>\n",
       "      <th>Wellness and Fitness</th>\n",
       "      <th>TOTAL SCORE</th>\n",
       "    </tr>\n",
       "  </thead>\n",
       "  <tbody>\n",
       "    <tr>\n",
       "      <th>0</th>\n",
       "      <td>1</td>\n",
       "      <td>2</td>\n",
       "      <td>Oslo</td>\n",
       "      <td>Norway</td>\n",
       "      <td>41.72%</td>\n",
       "      <td>11.20%</td>\n",
       "      <td>25</td>\n",
       "      <td>25</td>\n",
       "      <td>94.7</td>\n",
       "      <td>9.10%</td>\n",
       "      <td>...</td>\n",
       "      <td>100.0</td>\n",
       "      <td>85.0</td>\n",
       "      <td>93.2</td>\n",
       "      <td>59.4</td>\n",
       "      <td>88.8</td>\n",
       "      <td>86.5</td>\n",
       "      <td>95.6</td>\n",
       "      <td>97.5</td>\n",
       "      <td>65.7</td>\n",
       "      <td>100.00</td>\n",
       "    </tr>\n",
       "    <tr>\n",
       "      <th>1</th>\n",
       "      <td>2</td>\n",
       "      <td>-</td>\n",
       "      <td>Bern</td>\n",
       "      <td>Switzerland</td>\n",
       "      <td>44.86%</td>\n",
       "      <td>11.40%</td>\n",
       "      <td>20</td>\n",
       "      <td>25</td>\n",
       "      <td>99.8</td>\n",
       "      <td>7.60%</td>\n",
       "      <td>...</td>\n",
       "      <td>99.6</td>\n",
       "      <td>78.6</td>\n",
       "      <td>94.6</td>\n",
       "      <td>69.9</td>\n",
       "      <td>100.0</td>\n",
       "      <td>91.8</td>\n",
       "      <td>87.1</td>\n",
       "      <td>100.0</td>\n",
       "      <td>69.1</td>\n",
       "      <td>99.46</td>\n",
       "    </tr>\n",
       "    <tr>\n",
       "      <th>2</th>\n",
       "      <td>3</td>\n",
       "      <td>1</td>\n",
       "      <td>Helsinki</td>\n",
       "      <td>Finland</td>\n",
       "      <td>38.92%</td>\n",
       "      <td>12.70%</td>\n",
       "      <td>25</td>\n",
       "      <td>30</td>\n",
       "      <td>89.3</td>\n",
       "      <td>6.30%</td>\n",
       "      <td>...</td>\n",
       "      <td>96.7</td>\n",
       "      <td>73.0</td>\n",
       "      <td>93.9</td>\n",
       "      <td>65.0</td>\n",
       "      <td>96.3</td>\n",
       "      <td>94.9</td>\n",
       "      <td>86.0</td>\n",
       "      <td>97.0</td>\n",
       "      <td>68.3</td>\n",
       "      <td>99.24</td>\n",
       "    </tr>\n",
       "    <tr>\n",
       "      <th>3</th>\n",
       "      <td>4</td>\n",
       "      <td>3</td>\n",
       "      <td>Zurich</td>\n",
       "      <td>Switzerland</td>\n",
       "      <td>44.86%</td>\n",
       "      <td>11.90%</td>\n",
       "      <td>20</td>\n",
       "      <td>25</td>\n",
       "      <td>99.2</td>\n",
       "      <td>7.60%</td>\n",
       "      <td>...</td>\n",
       "      <td>99.2</td>\n",
       "      <td>78.6</td>\n",
       "      <td>87.5</td>\n",
       "      <td>71.6</td>\n",
       "      <td>91.5</td>\n",
       "      <td>92.8</td>\n",
       "      <td>84.0</td>\n",
       "      <td>96.2</td>\n",
       "      <td>68.7</td>\n",
       "      <td>96.33</td>\n",
       "    </tr>\n",
       "    <tr>\n",
       "      <th>4</th>\n",
       "      <td>5</td>\n",
       "      <td>5</td>\n",
       "      <td>Copenhagen</td>\n",
       "      <td>Denmark</td>\n",
       "      <td>41.42%</td>\n",
       "      <td>10.50%</td>\n",
       "      <td>25</td>\n",
       "      <td>28</td>\n",
       "      <td>94.8</td>\n",
       "      <td>7.60%</td>\n",
       "      <td>...</td>\n",
       "      <td>94.8</td>\n",
       "      <td>77.6</td>\n",
       "      <td>95.2</td>\n",
       "      <td>65.3</td>\n",
       "      <td>92.5</td>\n",
       "      <td>95.7</td>\n",
       "      <td>75.5</td>\n",
       "      <td>95.1</td>\n",
       "      <td>66.3</td>\n",
       "      <td>96.21</td>\n",
       "    </tr>\n",
       "  </tbody>\n",
       "</table>\n",
       "<p>5 rows × 24 columns</p>\n",
       "</div>"
      ],
      "text/plain": [
       "   2022 2021        City      Country Remote Jobs Overworked Population  \\\n",
       "0     1    2        Oslo       Norway      41.72%                11.20%   \n",
       "1     2    -        Bern  Switzerland      44.86%                11.40%   \n",
       "2     3    1    Helsinki      Finland      38.92%                12.70%   \n",
       "3     4    3      Zurich  Switzerland      44.86%                11.90%   \n",
       "4     5    5  Copenhagen      Denmark      41.42%                10.50%   \n",
       "\n",
       "   Minimum Vacations Offered (Days) Vacations Taken (Days)  Unemployment  \\\n",
       "0                                25                     25          94.7   \n",
       "1                                20                     25          99.8   \n",
       "2                                25                     30          89.3   \n",
       "3                                20                     25          99.2   \n",
       "4                                25                     28          94.8   \n",
       "\n",
       "  Multiple Jobholders  ... Healthcare Access to Mental Healthcare  \\\n",
       "0               9.10%  ...      100.0                        85.0   \n",
       "1               7.60%  ...       99.6                        78.6   \n",
       "2               6.30%  ...       96.7                        73.0   \n",
       "3               7.60%  ...       99.2                        78.6   \n",
       "4               7.60%  ...       94.8                        77.6   \n",
       "\n",
       "   Inclusivity & Tolerance  Affordability  Happiness, Culture & Leisure  \\\n",
       "0                     93.2           59.4                          88.8   \n",
       "1                     94.6           69.9                         100.0   \n",
       "2                     93.9           65.0                          96.3   \n",
       "3                     87.5           71.6                          91.5   \n",
       "4                     95.2           65.3                          92.5   \n",
       "\n",
       "   City Safety  Outdoor Spaces  Air Quality  Wellness and Fitness  TOTAL SCORE  \n",
       "0         86.5            95.6         97.5                  65.7       100.00  \n",
       "1         91.8            87.1        100.0                  69.1        99.46  \n",
       "2         94.9            86.0         97.0                  68.3        99.24  \n",
       "3         92.8            84.0         96.2                  68.7        96.33  \n",
       "4         95.7            75.5         95.1                  66.3        96.21  \n",
       "\n",
       "[5 rows x 24 columns]"
      ]
     },
     "execution_count": 4,
     "metadata": {},
     "output_type": "execute_result"
    }
   ],
   "source": [
    "df.head()"
   ]
  },
  {
   "cell_type": "code",
   "execution_count": 5,
   "id": "1e0fa904",
   "metadata": {},
   "outputs": [],
   "source": [
    "# df.dtypes[column] == object"
   ]
  },
  {
   "cell_type": "code",
   "execution_count": 6,
   "id": "8a468667",
   "metadata": {},
   "outputs": [],
   "source": [
    "columns = df.columns.tolist()"
   ]
  },
  {
   "cell_type": "code",
   "execution_count": 7,
   "id": "4b984b2e",
   "metadata": {},
   "outputs": [
    {
     "data": {
      "text/plain": [
       "['2022',\n",
       " '2021',\n",
       " 'City',\n",
       " 'Country',\n",
       " 'Remote Jobs',\n",
       " 'Overworked Population',\n",
       " 'Minimum Vacations Offered (Days)',\n",
       " 'Vacations Taken (Days)',\n",
       " 'Unemployment',\n",
       " 'Multiple Jobholders',\n",
       " 'Inflation',\n",
       " 'Paid Parental Leave (Days)',\n",
       " 'Covid Impact',\n",
       " 'Covid Support',\n",
       " 'Healthcare',\n",
       " 'Access to Mental Healthcare',\n",
       " 'Inclusivity & Tolerance',\n",
       " 'Affordability',\n",
       " 'Happiness, Culture & Leisure',\n",
       " 'City Safety',\n",
       " 'Outdoor Spaces',\n",
       " 'Air Quality',\n",
       " 'Wellness and Fitness',\n",
       " 'TOTAL SCORE']"
      ]
     },
     "execution_count": 7,
     "metadata": {},
     "output_type": "execute_result"
    }
   ],
   "source": [
    "columns"
   ]
  },
  {
   "cell_type": "code",
   "execution_count": 8,
   "id": "ba5e98ea",
   "metadata": {},
   "outputs": [],
   "source": [
    "objectcolumns = []\n",
    "for i in columns:\n",
    "    if df.dtypes[i] ==  object:\n",
    "        objectcolumns.append(i)"
   ]
  },
  {
   "cell_type": "code",
   "execution_count": 9,
   "id": "d7d6f771",
   "metadata": {},
   "outputs": [
    {
     "data": {
      "text/plain": [
       "['2021',\n",
       " 'City',\n",
       " 'Country',\n",
       " 'Remote Jobs',\n",
       " 'Overworked Population',\n",
       " 'Vacations Taken (Days)',\n",
       " 'Multiple Jobholders',\n",
       " 'Inflation',\n",
       " 'Paid Parental Leave (Days)']"
      ]
     },
     "execution_count": 9,
     "metadata": {},
     "output_type": "execute_result"
    }
   ],
   "source": [
    "objectcolumns "
   ]
  },
  {
   "cell_type": "code",
   "execution_count": 10,
   "id": "92c6ee7e",
   "metadata": {},
   "outputs": [],
   "source": [
    "# method 2"
   ]
  },
  {
   "cell_type": "code",
   "execution_count": 11,
   "id": "89dd23ca",
   "metadata": {},
   "outputs": [],
   "source": [
    " objectcolumns2 = list(df.select_dtypes(include = ['object']).columns)"
   ]
  },
  {
   "cell_type": "code",
   "execution_count": 12,
   "id": "e8e24484",
   "metadata": {},
   "outputs": [
    {
     "data": {
      "text/plain": [
       "['2021',\n",
       " 'City',\n",
       " 'Country',\n",
       " 'Remote Jobs',\n",
       " 'Overworked Population',\n",
       " 'Vacations Taken (Days)',\n",
       " 'Multiple Jobholders',\n",
       " 'Inflation',\n",
       " 'Paid Parental Leave (Days)']"
      ]
     },
     "execution_count": 12,
     "metadata": {},
     "output_type": "execute_result"
    }
   ],
   "source": [
    "objectcolumns2"
   ]
  },
  {
   "cell_type": "code",
   "execution_count": 13,
   "id": "a52d0ced",
   "metadata": {},
   "outputs": [],
   "source": [
    "df.drop(objectcolumns2, axis = 1, inplace = True )"
   ]
  },
  {
   "cell_type": "code",
   "execution_count": 14,
   "id": "4bbc4400",
   "metadata": {},
   "outputs": [
    {
     "data": {
      "text/plain": [
       "(100, 15)"
      ]
     },
     "execution_count": 14,
     "metadata": {},
     "output_type": "execute_result"
    }
   ],
   "source": [
    "df.shape"
   ]
  },
  {
   "cell_type": "code",
   "execution_count": 15,
   "id": "6a55668a",
   "metadata": {},
   "outputs": [],
   "source": [
    "x = df.drop('TOTAL SCORE',axis = 1)"
   ]
  },
  {
   "cell_type": "code",
   "execution_count": 16,
   "id": "d962a1ad",
   "metadata": {},
   "outputs": [
    {
     "data": {
      "text/html": [
       "<div>\n",
       "<style scoped>\n",
       "    .dataframe tbody tr th:only-of-type {\n",
       "        vertical-align: middle;\n",
       "    }\n",
       "\n",
       "    .dataframe tbody tr th {\n",
       "        vertical-align: top;\n",
       "    }\n",
       "\n",
       "    .dataframe thead th {\n",
       "        text-align: right;\n",
       "    }\n",
       "</style>\n",
       "<table border=\"1\" class=\"dataframe\">\n",
       "  <thead>\n",
       "    <tr style=\"text-align: right;\">\n",
       "      <th></th>\n",
       "      <th>2022</th>\n",
       "      <th>Minimum Vacations Offered (Days)</th>\n",
       "      <th>Unemployment</th>\n",
       "      <th>Covid Impact</th>\n",
       "      <th>Covid Support</th>\n",
       "      <th>Healthcare</th>\n",
       "      <th>Access to Mental Healthcare</th>\n",
       "      <th>Inclusivity &amp; Tolerance</th>\n",
       "      <th>Affordability</th>\n",
       "      <th>Happiness, Culture &amp; Leisure</th>\n",
       "      <th>City Safety</th>\n",
       "      <th>Outdoor Spaces</th>\n",
       "      <th>Air Quality</th>\n",
       "      <th>Wellness and Fitness</th>\n",
       "    </tr>\n",
       "  </thead>\n",
       "  <tbody>\n",
       "    <tr>\n",
       "      <th>0</th>\n",
       "      <td>1</td>\n",
       "      <td>25</td>\n",
       "      <td>94.7</td>\n",
       "      <td>88.2</td>\n",
       "      <td>93.0</td>\n",
       "      <td>100.0</td>\n",
       "      <td>85.0</td>\n",
       "      <td>93.2</td>\n",
       "      <td>59.4</td>\n",
       "      <td>88.8</td>\n",
       "      <td>86.5</td>\n",
       "      <td>95.6</td>\n",
       "      <td>97.5</td>\n",
       "      <td>65.7</td>\n",
       "    </tr>\n",
       "    <tr>\n",
       "      <th>1</th>\n",
       "      <td>2</td>\n",
       "      <td>20</td>\n",
       "      <td>99.8</td>\n",
       "      <td>82.2</td>\n",
       "      <td>91.4</td>\n",
       "      <td>99.6</td>\n",
       "      <td>78.6</td>\n",
       "      <td>94.6</td>\n",
       "      <td>69.9</td>\n",
       "      <td>100.0</td>\n",
       "      <td>91.8</td>\n",
       "      <td>87.1</td>\n",
       "      <td>100.0</td>\n",
       "      <td>69.1</td>\n",
       "    </tr>\n",
       "    <tr>\n",
       "      <th>2</th>\n",
       "      <td>3</td>\n",
       "      <td>25</td>\n",
       "      <td>89.3</td>\n",
       "      <td>85.0</td>\n",
       "      <td>99.7</td>\n",
       "      <td>96.7</td>\n",
       "      <td>73.0</td>\n",
       "      <td>93.9</td>\n",
       "      <td>65.0</td>\n",
       "      <td>96.3</td>\n",
       "      <td>94.9</td>\n",
       "      <td>86.0</td>\n",
       "      <td>97.0</td>\n",
       "      <td>68.3</td>\n",
       "    </tr>\n",
       "    <tr>\n",
       "      <th>3</th>\n",
       "      <td>4</td>\n",
       "      <td>20</td>\n",
       "      <td>99.2</td>\n",
       "      <td>82.0</td>\n",
       "      <td>91.4</td>\n",
       "      <td>99.2</td>\n",
       "      <td>78.6</td>\n",
       "      <td>87.5</td>\n",
       "      <td>71.6</td>\n",
       "      <td>91.5</td>\n",
       "      <td>92.8</td>\n",
       "      <td>84.0</td>\n",
       "      <td>96.2</td>\n",
       "      <td>68.7</td>\n",
       "    </tr>\n",
       "    <tr>\n",
       "      <th>4</th>\n",
       "      <td>5</td>\n",
       "      <td>25</td>\n",
       "      <td>94.8</td>\n",
       "      <td>84.5</td>\n",
       "      <td>98.5</td>\n",
       "      <td>94.8</td>\n",
       "      <td>77.6</td>\n",
       "      <td>95.2</td>\n",
       "      <td>65.3</td>\n",
       "      <td>92.5</td>\n",
       "      <td>95.7</td>\n",
       "      <td>75.5</td>\n",
       "      <td>95.1</td>\n",
       "      <td>66.3</td>\n",
       "    </tr>\n",
       "    <tr>\n",
       "      <th>...</th>\n",
       "      <td>...</td>\n",
       "      <td>...</td>\n",
       "      <td>...</td>\n",
       "      <td>...</td>\n",
       "      <td>...</td>\n",
       "      <td>...</td>\n",
       "      <td>...</td>\n",
       "      <td>...</td>\n",
       "      <td>...</td>\n",
       "      <td>...</td>\n",
       "      <td>...</td>\n",
       "      <td>...</td>\n",
       "      <td>...</td>\n",
       "      <td>...</td>\n",
       "    </tr>\n",
       "    <tr>\n",
       "      <th>95</th>\n",
       "      <td>96</td>\n",
       "      <td>6</td>\n",
       "      <td>99.2</td>\n",
       "      <td>85.2</td>\n",
       "      <td>88.9</td>\n",
       "      <td>75.7</td>\n",
       "      <td>79.7</td>\n",
       "      <td>73.5</td>\n",
       "      <td>50.0</td>\n",
       "      <td>65.8</td>\n",
       "      <td>27.8</td>\n",
       "      <td>70.1</td>\n",
       "      <td>84.0</td>\n",
       "      <td>65.4</td>\n",
       "    </tr>\n",
       "    <tr>\n",
       "      <th>96</th>\n",
       "      <td>97</td>\n",
       "      <td>10</td>\n",
       "      <td>79.6</td>\n",
       "      <td>61.9</td>\n",
       "      <td>72.9</td>\n",
       "      <td>62.5</td>\n",
       "      <td>50.0</td>\n",
       "      <td>79.5</td>\n",
       "      <td>55.5</td>\n",
       "      <td>75.8</td>\n",
       "      <td>17.4</td>\n",
       "      <td>76.9</td>\n",
       "      <td>88.0</td>\n",
       "      <td>61.9</td>\n",
       "    </tr>\n",
       "    <tr>\n",
       "      <th>97</th>\n",
       "      <td>98</td>\n",
       "      <td>8</td>\n",
       "      <td>94.9</td>\n",
       "      <td>78.1</td>\n",
       "      <td>77.3</td>\n",
       "      <td>66.7</td>\n",
       "      <td>74.3</td>\n",
       "      <td>57.0</td>\n",
       "      <td>70.5</td>\n",
       "      <td>59.5</td>\n",
       "      <td>47.2</td>\n",
       "      <td>62.2</td>\n",
       "      <td>84.8</td>\n",
       "      <td>59.7</td>\n",
       "    </tr>\n",
       "    <tr>\n",
       "      <th>98</th>\n",
       "      <td>99</td>\n",
       "      <td>30</td>\n",
       "      <td>100.0</td>\n",
       "      <td>100.0</td>\n",
       "      <td>50.0</td>\n",
       "      <td>69.4</td>\n",
       "      <td>52.2</td>\n",
       "      <td>50.0</td>\n",
       "      <td>78.0</td>\n",
       "      <td>79.2</td>\n",
       "      <td>97.9</td>\n",
       "      <td>50.0</td>\n",
       "      <td>50.0</td>\n",
       "      <td>58.6</td>\n",
       "    </tr>\n",
       "    <tr>\n",
       "      <th>99</th>\n",
       "      <td>100</td>\n",
       "      <td>15</td>\n",
       "      <td>50.0</td>\n",
       "      <td>50.0</td>\n",
       "      <td>79.1</td>\n",
       "      <td>50.0</td>\n",
       "      <td>65.0</td>\n",
       "      <td>89.7</td>\n",
       "      <td>71.6</td>\n",
       "      <td>59.6</td>\n",
       "      <td>1.0</td>\n",
       "      <td>87.6</td>\n",
       "      <td>94.5</td>\n",
       "      <td>50.0</td>\n",
       "    </tr>\n",
       "  </tbody>\n",
       "</table>\n",
       "<p>100 rows × 14 columns</p>\n",
       "</div>"
      ],
      "text/plain": [
       "    2022  Minimum Vacations Offered (Days)  Unemployment  Covid Impact  \\\n",
       "0      1                                25          94.7          88.2   \n",
       "1      2                                20          99.8          82.2   \n",
       "2      3                                25          89.3          85.0   \n",
       "3      4                                20          99.2          82.0   \n",
       "4      5                                25          94.8          84.5   \n",
       "..   ...                               ...           ...           ...   \n",
       "95    96                                 6          99.2          85.2   \n",
       "96    97                                10          79.6          61.9   \n",
       "97    98                                 8          94.9          78.1   \n",
       "98    99                                30         100.0         100.0   \n",
       "99   100                                15          50.0          50.0   \n",
       "\n",
       "    Covid Support  Healthcare  Access to Mental Healthcare  \\\n",
       "0            93.0       100.0                         85.0   \n",
       "1            91.4        99.6                         78.6   \n",
       "2            99.7        96.7                         73.0   \n",
       "3            91.4        99.2                         78.6   \n",
       "4            98.5        94.8                         77.6   \n",
       "..            ...         ...                          ...   \n",
       "95           88.9        75.7                         79.7   \n",
       "96           72.9        62.5                         50.0   \n",
       "97           77.3        66.7                         74.3   \n",
       "98           50.0        69.4                         52.2   \n",
       "99           79.1        50.0                         65.0   \n",
       "\n",
       "    Inclusivity & Tolerance  Affordability  Happiness, Culture & Leisure  \\\n",
       "0                      93.2           59.4                          88.8   \n",
       "1                      94.6           69.9                         100.0   \n",
       "2                      93.9           65.0                          96.3   \n",
       "3                      87.5           71.6                          91.5   \n",
       "4                      95.2           65.3                          92.5   \n",
       "..                      ...            ...                           ...   \n",
       "95                     73.5           50.0                          65.8   \n",
       "96                     79.5           55.5                          75.8   \n",
       "97                     57.0           70.5                          59.5   \n",
       "98                     50.0           78.0                          79.2   \n",
       "99                     89.7           71.6                          59.6   \n",
       "\n",
       "    City Safety  Outdoor Spaces  Air Quality  Wellness and Fitness  \n",
       "0          86.5            95.6         97.5                  65.7  \n",
       "1          91.8            87.1        100.0                  69.1  \n",
       "2          94.9            86.0         97.0                  68.3  \n",
       "3          92.8            84.0         96.2                  68.7  \n",
       "4          95.7            75.5         95.1                  66.3  \n",
       "..          ...             ...          ...                   ...  \n",
       "95         27.8            70.1         84.0                  65.4  \n",
       "96         17.4            76.9         88.0                  61.9  \n",
       "97         47.2            62.2         84.8                  59.7  \n",
       "98         97.9            50.0         50.0                  58.6  \n",
       "99          1.0            87.6         94.5                  50.0  \n",
       "\n",
       "[100 rows x 14 columns]"
      ]
     },
     "execution_count": 16,
     "metadata": {},
     "output_type": "execute_result"
    }
   ],
   "source": [
    "x"
   ]
  },
  {
   "cell_type": "code",
   "execution_count": 17,
   "id": "d22a9b22",
   "metadata": {},
   "outputs": [],
   "source": [
    "y = df['TOTAL SCORE']"
   ]
  },
  {
   "cell_type": "code",
   "execution_count": 18,
   "id": "41f900bb",
   "metadata": {},
   "outputs": [
    {
     "data": {
      "text/plain": [
       "0     100.00\n",
       "1      99.46\n",
       "2      99.24\n",
       "3      96.33\n",
       "4      96.21\n",
       "       ...  \n",
       "95     70.73\n",
       "96     66.57\n",
       "97     66.02\n",
       "98     61.23\n",
       "99     50.00\n",
       "Name: TOTAL SCORE, Length: 100, dtype: float64"
      ]
     },
     "execution_count": 18,
     "metadata": {},
     "output_type": "execute_result"
    }
   ],
   "source": [
    "y"
   ]
  },
  {
   "cell_type": "code",
   "execution_count": 19,
   "id": "224825aa",
   "metadata": {},
   "outputs": [],
   "source": [
    "from sklearn.model_selection import train_test_split"
   ]
  },
  {
   "cell_type": "code",
   "execution_count": 20,
   "id": "1be76444",
   "metadata": {},
   "outputs": [],
   "source": [
    "xtrain, xtest, ytrain, ytest = train_test_split(x,y,train_size = 0.8)"
   ]
  },
  {
   "cell_type": "code",
   "execution_count": 21,
   "id": "991ffe38",
   "metadata": {},
   "outputs": [
    {
     "data": {
      "text/plain": [
       "(80, 14)"
      ]
     },
     "execution_count": 21,
     "metadata": {},
     "output_type": "execute_result"
    }
   ],
   "source": [
    "xtrain.shape"
   ]
  },
  {
   "cell_type": "code",
   "execution_count": 22,
   "id": "712051a6",
   "metadata": {},
   "outputs": [
    {
     "data": {
      "text/plain": [
       "(20, 14)"
      ]
     },
     "execution_count": 22,
     "metadata": {},
     "output_type": "execute_result"
    }
   ],
   "source": [
    "xtest.shape"
   ]
  },
  {
   "cell_type": "code",
   "execution_count": 23,
   "id": "3a33b570",
   "metadata": {},
   "outputs": [
    {
     "data": {
      "text/plain": [
       "(80,)"
      ]
     },
     "execution_count": 23,
     "metadata": {},
     "output_type": "execute_result"
    }
   ],
   "source": [
    "ytrain.shape"
   ]
  },
  {
   "cell_type": "code",
   "execution_count": 24,
   "id": "bcaff58b",
   "metadata": {},
   "outputs": [
    {
     "data": {
      "text/plain": [
       "(20,)"
      ]
     },
     "execution_count": 24,
     "metadata": {},
     "output_type": "execute_result"
    }
   ],
   "source": [
    "ytest.shape"
   ]
  },
  {
   "cell_type": "code",
   "execution_count": 25,
   "id": "50d680bc",
   "metadata": {},
   "outputs": [],
   "source": [
    "from sklearn.linear_model import LinearRegression "
   ]
  },
  {
   "cell_type": "code",
   "execution_count": 26,
   "id": "93b4f860",
   "metadata": {},
   "outputs": [],
   "source": [
    "model = LinearRegression()"
   ]
  },
  {
   "cell_type": "code",
   "execution_count": 27,
   "id": "c81bf60e",
   "metadata": {},
   "outputs": [
    {
     "data": {
      "text/plain": [
       "LinearRegression()"
      ]
     },
     "execution_count": 27,
     "metadata": {},
     "output_type": "execute_result"
    }
   ],
   "source": [
    "model.fit(xtrain,ytrain)"
   ]
  },
  {
   "cell_type": "code",
   "execution_count": 28,
   "id": "546e9eca",
   "metadata": {},
   "outputs": [],
   "source": [
    "ypredict = model.predict(xtest)"
   ]
  },
  {
   "cell_type": "code",
   "execution_count": 29,
   "id": "427cdf86",
   "metadata": {},
   "outputs": [
    {
     "data": {
      "text/plain": [
       "array([83.27511317, 85.78236576, 80.95817414, 79.81405577, 84.762857  ,\n",
       "       83.21441001, 91.38537786, 86.4227723 , 91.67839144, 86.91554513,\n",
       "       90.08004262, 86.54523548, 83.2448744 , 78.40614244, 90.63099777,\n",
       "       95.4667164 , 89.11557219, 92.43805692, 94.93561903, 69.95796629])"
      ]
     },
     "execution_count": 29,
     "metadata": {},
     "output_type": "execute_result"
    }
   ],
   "source": [
    "ypredict"
   ]
  },
  {
   "cell_type": "code",
   "execution_count": 30,
   "id": "e5cdfa9e",
   "metadata": {},
   "outputs": [
    {
     "data": {
      "text/plain": [
       "64    83.33\n",
       "62    83.66\n",
       "81    80.87\n",
       "85    79.90\n",
       "55    84.31\n",
       "66    83.15\n",
       "27    89.73\n",
       "52    84.62\n",
       "23    90.68\n",
       "42    86.01\n",
       "44    85.66\n",
       "40    87.10\n",
       "59    84.06\n",
       "88    79.47\n",
       "19    91.06\n",
       "7     94.04\n",
       "31    88.38\n",
       "14    92.45\n",
       "6     95.51\n",
       "94    73.15\n",
       "Name: TOTAL SCORE, dtype: float64"
      ]
     },
     "execution_count": 30,
     "metadata": {},
     "output_type": "execute_result"
    }
   ],
   "source": [
    "ytest"
   ]
  },
  {
   "cell_type": "code",
   "execution_count": 31,
   "id": "0df4fce4",
   "metadata": {},
   "outputs": [],
   "source": [
    "from sklearn.metrics import r2_score "
   ]
  },
  {
   "cell_type": "code",
   "execution_count": 32,
   "id": "d0145ff0",
   "metadata": {},
   "outputs": [
    {
     "name": "stdout",
     "output_type": "stream",
     "text": [
      "91.6 %\n"
     ]
    }
   ],
   "source": [
    "print((r2_score(ytest,ypredict)*100).round(2),'%')"
   ]
  },
  {
   "cell_type": "code",
   "execution_count": null,
   "id": "98aef4bc",
   "metadata": {},
   "outputs": [],
   "source": []
  }
 ],
 "metadata": {
  "kernelspec": {
   "display_name": "Python 3 (ipykernel)",
   "language": "python",
   "name": "python3"
  },
  "language_info": {
   "codemirror_mode": {
    "name": "ipython",
    "version": 3
   },
   "file_extension": ".py",
   "mimetype": "text/x-python",
   "name": "python",
   "nbconvert_exporter": "python",
   "pygments_lexer": "ipython3",
   "version": "3.9.7"
  }
 },
 "nbformat": 4,
 "nbformat_minor": 5
}
